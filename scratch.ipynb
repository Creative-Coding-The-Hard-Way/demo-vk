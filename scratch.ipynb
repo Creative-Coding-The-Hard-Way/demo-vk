{
 "cells": [
  {
   "cell_type": "code",
   "execution_count": 6,
   "id": "3004890b-b7d8-4270-8174-a90e1c5ba61c",
   "metadata": {},
   "outputs": [
    {
     "data": {
      "text/plain": [
       "3.0"
      ]
     },
     "execution_count": 6,
     "metadata": {},
     "output_type": "execute_result"
    }
   ],
   "source": [
    "kb = 1024\n",
    "mb = kb * 1024\n",
    "gb = mb * 1024\n",
    "\n",
    "size = 1.25 * gb\n",
    "\n",
    "floor(log(1024.0, size))\n"
   ]
  },
  {
   "cell_type": "code",
   "execution_count": 7,
   "id": "0db8f1c4-3d8f-4102-9054-2ea3a4a41782",
   "metadata": {},
   "outputs": [
    {
     "data": {
      "text/plain": [
       "193.81398677825928"
      ]
     },
     "execution_count": 7,
     "metadata": {},
     "output_type": "execute_result"
    }
   ],
   "source": [
    "203228695 / (1024*1024)"
   ]
  }
 ],
 "metadata": {
  "kernelspec": {
   "display_name": "Julia 1.11.1",
   "language": "julia",
   "name": "julia-1.11"
  },
  "language_info": {
   "file_extension": ".jl",
   "mimetype": "application/julia",
   "name": "julia",
   "version": "1.11.1"
  }
 },
 "nbformat": 4,
 "nbformat_minor": 5
}
